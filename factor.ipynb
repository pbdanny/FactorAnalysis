{
 "cells": [
  {
   "cell_type": "code",
   "execution_count": 2,
   "metadata": {},
   "outputs": [],
   "source": [
    "import pandas as pd\n",
    "import numpy as np\n",
    "\n",
    "from numpy.linalg import eigh\n",
    "np.set_printoptions(linewidth=100)\n",
    "# sample data from \n",
    "df = pd.read_csv('/Users/thanakrit.boo/Documents/Local Project/Python/FactorAnalysis/data.csv', index_col=0)"
   ]
  },
  {
   "cell_type": "markdown",
   "metadata": {},
   "source": [
    "# Data"
   ]
  },
  {
   "cell_type": "markdown",
   "metadata": {},
   "source": [
    "Five subjects who were trying on ski boots late on a Friday night in January were asked about the importance of each of four variables to their selection of a ski resort. The variables were cost of ski ticket (COST), speed of ski lift (LIFT), depth of snow (DEPTH), and moisture of snow (POWDER). Larger numbers indicate greater importance. The researcher wanted to investigate the pattern of relationships among the variables in an effort to understand better the dimensions underlying choice of ski area."
   ]
  },
  {
   "cell_type": "markdown",
   "metadata": {},
   "source": [
    "# Extraction"
   ]
  },
  {
   "cell_type": "code",
   "execution_count": 60,
   "metadata": {},
   "outputs": [
    {
     "data": {
      "text/html": [
       "<div>\n",
       "<style scoped>\n",
       "    .dataframe tbody tr th:only-of-type {\n",
       "        vertical-align: middle;\n",
       "    }\n",
       "\n",
       "    .dataframe tbody tr th {\n",
       "        vertical-align: top;\n",
       "    }\n",
       "\n",
       "    .dataframe thead th {\n",
       "        text-align: right;\n",
       "    }\n",
       "</style>\n",
       "<table border=\"1\" class=\"dataframe\">\n",
       "  <thead>\n",
       "    <tr style=\"text-align: right;\">\n",
       "      <th></th>\n",
       "      <th>COST</th>\n",
       "      <th>LIFT</th>\n",
       "      <th>DEPTH</th>\n",
       "      <th>POWDER</th>\n",
       "    </tr>\n",
       "  </thead>\n",
       "  <tbody>\n",
       "    <tr>\n",
       "      <th>COST</th>\n",
       "      <td>1.000000</td>\n",
       "      <td>-0.952990</td>\n",
       "      <td>-0.055276</td>\n",
       "      <td>-0.129999</td>\n",
       "    </tr>\n",
       "    <tr>\n",
       "      <th>LIFT</th>\n",
       "      <td>-0.952990</td>\n",
       "      <td>1.000000</td>\n",
       "      <td>-0.091107</td>\n",
       "      <td>-0.036248</td>\n",
       "    </tr>\n",
       "    <tr>\n",
       "      <th>DEPTH</th>\n",
       "      <td>-0.055276</td>\n",
       "      <td>-0.091107</td>\n",
       "      <td>1.000000</td>\n",
       "      <td>0.990174</td>\n",
       "    </tr>\n",
       "    <tr>\n",
       "      <th>POWDER</th>\n",
       "      <td>-0.129999</td>\n",
       "      <td>-0.036248</td>\n",
       "      <td>0.990174</td>\n",
       "      <td>1.000000</td>\n",
       "    </tr>\n",
       "  </tbody>\n",
       "</table>\n",
       "</div>"
      ],
      "text/plain": [
       "            COST      LIFT     DEPTH    POWDER\n",
       "COST    1.000000 -0.952990 -0.055276 -0.129999\n",
       "LIFT   -0.952990  1.000000 -0.091107 -0.036248\n",
       "DEPTH  -0.055276 -0.091107  1.000000  0.990174\n",
       "POWDER -0.129999 -0.036248  0.990174  1.000000"
      ]
     },
     "execution_count": 60,
     "metadata": {},
     "output_type": "execute_result"
    }
   ],
   "source": [
    "corr = df.corr()\n",
    "# Corr from cov, std\n",
    "# df.cov()/(df.std().to_numpy().reshape(-1,1)@df.std().to_numpy().reshape(1,-1))\n",
    "corr"
   ]
  },
  {
   "cell_type": "code",
   "execution_count": 61,
   "metadata": {},
   "outputs": [
    {
     "data": {
      "text/plain": [
       "array([0.00436878, 0.03781231, 1.94151381, 2.0163051 ])"
      ]
     },
     "metadata": {},
     "output_type": "display_data"
    },
    {
     "data": {
      "text/plain": [
       "array([[ 0.24394508,  0.6624913 , -0.61432982,  0.35241302],\n",
       "       [ 0.1988    ,  0.67589344,  0.66376422, -0.25112482],\n",
       "       [-0.65319195,  0.2754625 , -0.32222906, -0.6273987 ],\n",
       "       [ 0.68870141, -0.16850441, -0.27961467, -0.6473888 ]])"
      ]
     },
     "metadata": {},
     "output_type": "display_data"
    }
   ],
   "source": [
    "eigval, eigvec = eigh(corr)\n",
    "display(eigval)\n",
    "display(eigvec)"
   ]
  },
  {
   "cell_type": "code",
   "execution_count": 62,
   "metadata": {},
   "outputs": [
    {
     "data": {
      "text/plain": [
       "array([[ 1.        , -0.95299048, -0.05527555, -0.12999882],\n",
       "       [-0.95299048,  1.        , -0.09110654, -0.03624823],\n",
       "       [-0.05527555, -0.09110654,  1.        ,  0.99017435],\n",
       "       [-0.12999882, -0.03624823,  0.99017435,  1.        ]])"
      ]
     },
     "metadata": {},
     "output_type": "display_data"
    }
   ],
   "source": [
    "# Re-arrage of correlation matrix from eigen value, eigen vector\n",
    "re_composed_corr = eigvec@np.diag(eigval)@eigvec.T\n",
    "display(re_composed_corr)"
   ]
  },
  {
   "cell_type": "code",
   "execution_count": 63,
   "metadata": {},
   "outputs": [
    {
     "data": {
      "text/plain": [
       "array([[ 0.01612397,  0.128824  , -0.85599621,  0.50041471],\n",
       "       [ 0.01314003,  0.13143009,  0.92487722, -0.35658885],\n",
       "       [-0.04317384,  0.05356475, -0.44898822, -0.89088519],\n",
       "       [ 0.0455209 , -0.03276633, -0.38961008, -0.91927047]])"
      ]
     },
     "metadata": {},
     "output_type": "display_data"
    }
   ],
   "source": [
    "# Split eigval into sqrt(np.diag(eigval))*sqrt(np.diag(eigval)), call\n",
    "# eigvec@(np.diag(eigval)) = (unrotated) factor loading matrix\n",
    "factor_loading = eigvec@np.diag(np.sqrt(eigval))\n",
    "display(factor_loading)"
   ]
  },
  {
   "cell_type": "markdown",
   "metadata": {},
   "source": [
    "To represent the correlation matrix, with less number of factors.  \n",
    "Use high value eigen value (and corresponding eigen vector), since higher eigen value, shown relation between factor and original correlation matrix.  \n",
    "If choose only top 2 factor"
   ]
  },
  {
   "cell_type": "code",
   "execution_count": 64,
   "metadata": {},
   "outputs": [
    {
     "data": {
      "text/plain": [
       "array([2.0163051 , 1.94151381])"
      ]
     },
     "execution_count": 64,
     "metadata": {},
     "output_type": "execute_result"
    }
   ],
   "source": [
    "top_eigval = eigval[:-3:-1] # re-order by top value first\n",
    "top_eigval"
   ]
  },
  {
   "cell_type": "code",
   "execution_count": 65,
   "metadata": {},
   "outputs": [
    {
     "data": {
      "text/plain": [
       "array([[ 0.35241302, -0.61432982],\n",
       "       [-0.25112482,  0.66376422],\n",
       "       [-0.6273987 , -0.32222906],\n",
       "       [-0.6473888 , -0.27961467]])"
      ]
     },
     "execution_count": 65,
     "metadata": {},
     "output_type": "execute_result"
    }
   ],
   "source": [
    "top_eigvec = eigvec[:,[3,2]] # re-order according to corresponding eigen val\n",
    "top_eigvec"
   ]
  },
  {
   "cell_type": "markdown",
   "metadata": {},
   "source": [
    "Reproduce correlation matrix from first 2 factos"
   ]
  },
  {
   "cell_type": "code",
   "execution_count": 66,
   "metadata": {},
   "outputs": [
    {
     "data": {
      "text/plain": [
       "array([[ 0.9831444 , -0.9701337 , -0.06147984, -0.12651171],\n",
       "       [-0.9701337 ,  0.98255347, -0.09757925, -0.03253989],\n",
       "       [-0.06147984, -0.09757925,  0.99526684,  0.99389478],\n",
       "       [-0.12651171, -0.03253989,  0.99389478,  0.99685421]])"
      ]
     },
     "execution_count": 66,
     "metadata": {},
     "output_type": "execute_result"
    }
   ],
   "source": [
    "top_corr = top_eigvec@np.diag(top_eigval)@top_eigvec.T\n",
    "top_corr"
   ]
  },
  {
   "cell_type": "code",
   "execution_count": 67,
   "metadata": {},
   "outputs": [
    {
     "data": {
      "text/html": [
       "<div>\n",
       "<style scoped>\n",
       "    .dataframe tbody tr th:only-of-type {\n",
       "        vertical-align: middle;\n",
       "    }\n",
       "\n",
       "    .dataframe tbody tr th {\n",
       "        vertical-align: top;\n",
       "    }\n",
       "\n",
       "    .dataframe thead th {\n",
       "        text-align: right;\n",
       "    }\n",
       "</style>\n",
       "<table border=\"1\" class=\"dataframe\">\n",
       "  <thead>\n",
       "    <tr style=\"text-align: right;\">\n",
       "      <th></th>\n",
       "      <th>COST</th>\n",
       "      <th>LIFT</th>\n",
       "      <th>DEPTH</th>\n",
       "      <th>POWDER</th>\n",
       "    </tr>\n",
       "  </thead>\n",
       "  <tbody>\n",
       "    <tr>\n",
       "      <th>COST</th>\n",
       "      <td>1.000000</td>\n",
       "      <td>-0.952990</td>\n",
       "      <td>-0.055276</td>\n",
       "      <td>-0.129999</td>\n",
       "    </tr>\n",
       "    <tr>\n",
       "      <th>LIFT</th>\n",
       "      <td>-0.952990</td>\n",
       "      <td>1.000000</td>\n",
       "      <td>-0.091107</td>\n",
       "      <td>-0.036248</td>\n",
       "    </tr>\n",
       "    <tr>\n",
       "      <th>DEPTH</th>\n",
       "      <td>-0.055276</td>\n",
       "      <td>-0.091107</td>\n",
       "      <td>1.000000</td>\n",
       "      <td>0.990174</td>\n",
       "    </tr>\n",
       "    <tr>\n",
       "      <th>POWDER</th>\n",
       "      <td>-0.129999</td>\n",
       "      <td>-0.036248</td>\n",
       "      <td>0.990174</td>\n",
       "      <td>1.000000</td>\n",
       "    </tr>\n",
       "  </tbody>\n",
       "</table>\n",
       "</div>"
      ],
      "text/plain": [
       "            COST      LIFT     DEPTH    POWDER\n",
       "COST    1.000000 -0.952990 -0.055276 -0.129999\n",
       "LIFT   -0.952990  1.000000 -0.091107 -0.036248\n",
       "DEPTH  -0.055276 -0.091107  1.000000  0.990174\n",
       "POWDER -0.129999 -0.036248  0.990174  1.000000"
      ]
     },
     "execution_count": 67,
     "metadata": {},
     "output_type": "execute_result"
    }
   ],
   "source": [
    "corr"
   ]
  },
  {
   "cell_type": "markdown",
   "metadata": {},
   "source": [
    "Top Factor loading = top_eigvec @ sqrt(eigval)"
   ]
  },
  {
   "cell_type": "code",
   "execution_count": 68,
   "metadata": {},
   "outputs": [
    {
     "data": {
      "text/plain": [
       "array([[ 0.50041471, -0.85599621],\n",
       "       [-0.35658885,  0.92487722],\n",
       "       [-0.89088519, -0.44898822],\n",
       "       [-0.91927047, -0.38961008]])"
      ]
     },
     "execution_count": 68,
     "metadata": {},
     "output_type": "execute_result"
    }
   ],
   "source": [
    "top_factor_loading = top_eigvec@np.diag(np.sqrt(top_eigval))\n",
    "top_factor_loading"
   ]
  },
  {
   "cell_type": "markdown",
   "metadata": {},
   "source": [
    "__Interpretation__  \n",
    "First factor high relation with `DEPTH` and `POWDER`, indicate the factor based on environment  \n",
    "Second factor high relation with `COST` and `LIFT` , indicate the factor based on infrastructure  "
   ]
  },
  {
   "cell_type": "markdown",
   "metadata": {},
   "source": [
    "# Orthogonal Rotation  \n",
    "Rotation to maximized high correlation factor <-> variable  \n",
    "_varimax_ high factor loading -> higher / low factor loading -> lower\n",
    "\n",
    "`varimax`  \n",
    "orthogonal rotate with matrix\n",
    "| cos x | - sin x |\n",
    "| --- | --- |\n",
    "| sin x | cos x |"
   ]
  },
  {
   "cell_type": "code",
   "execution_count": 69,
   "metadata": {},
   "outputs": [
    {
     "data": {
      "text/plain": [
       "array([[ 0.1944663 , -0.97227941],\n",
       "       [-0.03605081,  0.99058256],\n",
       "       [-0.98852476, -0.13448285],\n",
       "       [-0.99603194, -0.06909838]])"
      ]
     },
     "execution_count": 69,
     "metadata": {},
     "output_type": "execute_result"
    }
   ],
   "source": [
    "rotate_radian = 19/180*np.pi\n",
    "rotate_mat = np.array([[np.cos(rotate_radian), -np.sin(rotate_radian)],\n",
    "                       [np.sin(rotate_radian), np.cos(rotate_radian)]])\n",
    "top_factor_loading_rotated = top_factor_loading@rotate_mat\n",
    "top_factor_loading_rotated"
   ]
  },
  {
   "cell_type": "markdown",
   "metadata": {},
   "source": [
    "## Varimax rotation\n",
    "1) Normalized each row with each row sum-square"
   ]
  },
  {
   "cell_type": "code",
   "execution_count": 70,
   "metadata": {},
   "outputs": [],
   "source": [
    "# sample Factor loading sample for calculation reference : https://www.real-statistics.com/linear-algebra-matrix-topics/varimax/\n",
    "# df = pd.read_excel('/Users/thanakrit.boo/Documents/Local Project/Python/FactorAnalysis/sample_cal_varimax.xlsx',header=None)\n",
    "# top_factor_loading = df.to_numpy()"
   ]
  },
  {
   "cell_type": "code",
   "execution_count": 71,
   "metadata": {},
   "outputs": [],
   "source": [
    "def varimax(X):\n",
    "    \"\"\"X is k by 2 matrix\n",
    "    \"\"\"\n",
    "    u = X[:,0]**2 - X[:,1]**2\n",
    "    # print(u)\n",
    "    v = 2*(X[:,0]*X[:,1])\n",
    "    # print(v)\n",
    "    u_sqrt_net_v_sqrt = u**2 - v**2\n",
    "    # print(u_sqrt_net_v_sqrt)\n",
    "    uv = u*v\n",
    "    # print(uv)\n",
    "\n",
    "    A = u.sum()\n",
    "    B = v.sum()\n",
    "    C = u_sqrt_net_v_sqrt.sum()\n",
    "    D = uv.sum()\n",
    "    k = X.shape[0]\n",
    "\n",
    "    X = 2*D*k - 2*A*B \n",
    "    Y = C*k - (A**2 - B**2)\n",
    "    # print(X)\n",
    "    # print(Y)\n",
    "\n",
    "    rotate_radian = np.arctan(X/Y)*0.25\n",
    "    rotate_mat = np.array([[np.cos(rotate_radian), - np.sin(rotate_radian)],\n",
    "                       [np.sin(rotate_radian), np.cos(rotate_radian)]])\n",
    "    return rotate_radian, rotate_mat\n",
    "    "
   ]
  },
  {
   "cell_type": "code",
   "execution_count": 77,
   "metadata": {},
   "outputs": [
    {
     "name": "stdout",
     "output_type": "stream",
     "text": [
      "[[ 0.01612397  0.128824   -0.85599621  0.50041471]\n",
      " [ 0.01314003  0.13143009  0.92487722 -0.35658885]\n",
      " [-0.04317384  0.05356475 -0.44898822 -0.89088519]\n",
      " [ 0.0455209  -0.03276633 -0.38961008 -0.91927047]]\n",
      "[[ 0.01612397  0.128824   -0.85599621  0.50041471]\n",
      " [ 0.01314003  0.13143009  0.92487722 -0.35658885]\n",
      " [-0.04317384  0.05356475 -0.44898822 -0.89088519]\n",
      " [ 0.0455209  -0.03276633 -0.38961008 -0.91927047]]\n",
      "round (0, 1) : -0.21130064721212138\n",
      "round (0, 2) : 0.007214253478984777\n",
      "round (0, 3) : -0.001240655439995436\n",
      "round (1, 2) : -0.07431713661741896\n",
      "round (1, 3) : 0.10473401948947404\n",
      "round (2, 3) : 0.3503430692017834\n",
      "round (0, 1) : 0.06403307621635429\n",
      "round (0, 2) : -0.21081948568171402\n",
      "round (0, 3) : -0.02174408470611515\n",
      "round (1, 2) : 0.20948698753095157\n",
      "round (1, 3) : 0.062254250219023644\n",
      "round (2, 3) : 0.001578426907173468\n",
      "round (0, 1) : -0.07924177104287125\n",
      "round (0, 2) : -0.3645601212324433\n",
      "round (0, 3) : 0.020730899415313746\n",
      "round (1, 2) : -0.0428862503341948\n",
      "round (1, 3) : 0.035922576809696204\n",
      "round (2, 3) : 0.003667989630953482\n",
      "round (0, 1) : 0.04478060133325452\n",
      "round (0, 2) : 0.12717803114507445\n",
      "round (0, 3) : 0.004436723995623195\n",
      "round (1, 2) : -0.013225289511290761\n",
      "round (1, 3) : -0.0051974925966867\n",
      "round (2, 3) : 0.001388566666120945\n",
      "round (0, 1) : 0.002186916684939009\n",
      "round (0, 2) : -0.001466131685118234\n",
      "round (0, 3) : 0.0004730955687183949\n",
      "round (1, 2) : 0.003008850501818399\n",
      "round (1, 3) : -0.002605634914009457\n",
      "round (2, 3) : 0.0005526623341499331\n",
      "round (0, 1) : -0.0024357513557426436\n",
      "round (0, 2) : -0.005441491768144944\n",
      "round (0, 3) : 0.0003130025664107502\n",
      "round (1, 2) : 0.002105102286878274\n",
      "round (1, 3) : -0.0007539524676897611\n",
      "round (2, 3) : 0.00026353398051539423\n",
      "round (0, 1) : -0.0018676652332826028\n",
      "round (0, 2) : -0.003344975454036554\n",
      "round (0, 3) : 0.00026566852096231825\n",
      "round (1, 2) : 0.001052713105896916\n",
      "round (1, 3) : -0.0001872744526383855\n",
      "round (2, 3) : 0.00013955985732844943\n",
      "round (0, 1) : -0.0011304786493374554\n",
      "round (0, 2) : -0.0019576574131521503\n",
      "round (0, 3) : 0.0001796729031556152\n",
      "round (1, 2) : 0.0005395087618663244\n",
      "round (1, 3) : -4.416928766779423e-05\n",
      "round (2, 3) : 7.636725584244977e-05\n",
      "round (0, 1) : -0.0006488311794738392\n",
      "round (0, 2) : -0.0011246706088929178\n",
      "round (0, 3) : 0.00010822409132405239\n",
      "round (1, 2) : 0.00028828698050608703\n",
      "round (1, 3) : -1.0090462963560487e-05\n",
      "round (2, 3) : 4.213629378864726e-05\n",
      "round (0, 1) : -0.00036526651024866824\n",
      "round (0, 2) : -0.0006361180030517469\n",
      "round (0, 3) : 6.20730332151767e-05\n",
      "round (1, 2) : 0.00015736943362911122\n",
      "round (1, 3) : -2.1244467368779192e-06\n",
      "round (2, 3) : 2.329313031709975e-05\n",
      "round (0, 1) : -0.00020381290252508065\n",
      "round (0, 2) : -0.0003561252592707537\n",
      "round (0, 3) : 3.4880623581224693e-05\n",
      "round (1, 2) : 8.662830626869e-05\n",
      "round (1, 3) : -3.201843574619263e-07\n",
      "round (2, 3) : 1.2881431746422612e-05\n",
      "round (0, 1) : -0.00011322296881802307\n",
      "round (0, 2) : -0.00019822041197897525\n",
      "round (0, 3) : 1.942947522839764e-05\n",
      "round (1, 2) : 4.782977009850024e-05\n",
      "round (1, 3) : 4.124072210210744e-08\n",
      "round (2, 3) : 7.123834249115296e-06\n",
      "round (0, 1) : -6.275682749509531e-05\n",
      "round (0, 2) : -0.0001099882447631472\n",
      "round (0, 3) : 1.0780819797231685e-05\n",
      "round (1, 2) : 2.643505350520893e-05\n",
      "round (1, 3) : 8.027614800444567e-08\n",
      "round (2, 3) : 3.939535412560101e-06\n",
      "round (0, 1) : -3.474443016615984e-05\n",
      "round (0, 2) : -6.0930189783009106e-05\n",
      "round (0, 3) : 5.971249140799359e-06\n",
      "round (1, 2) : 1.4615267605441456e-05\n",
      "round (1, 3) : 5.991877245105377e-08\n",
      "round (2, 3) : 2.178490439311282e-06\n",
      "round (0, 1) : -1.922420224144657e-05\n",
      "round (0, 2) : -3.372417720618974e-05\n",
      "round (0, 3) : 3.304511848166439e-06\n",
      "round (1, 2) : 8.08120146860146e-06\n",
      "round (1, 3) : 3.742201831761924e-08\n",
      "round (2, 3) : 1.2046212283236502e-06\n",
      "[[ 0.2884571   0.19892695 -0.59539755  0.72299539]\n",
      " [-0.3457149   0.09211405  0.65136807 -0.66911572]\n",
      " [ 0.27115331 -0.1982977  -0.65910272 -0.67285772]\n",
      " [ 0.33979233 -0.26560572 -0.56242431 -0.7054599 ]]\n"
     ]
    }
   ],
   "source": [
    "top_factor_loading = top_eigvec@np.diag(np.sqrt(top_eigval))\n",
    "# top_factor_loading = eigvec@np.diag(np.sqrt(eigval))\n",
    "print(top_factor_loading)\n",
    "communality = (top_factor_loading**2).sum(axis=1).reshape(-1,1)\n",
    "normalized = top_factor_loading/np.sqrt(communality) #.reshape(-1,1))\n",
    "print(normalized)\n",
    "\n",
    "MAX_ROUND = 15\n",
    "N_COL = top_factor_loading.shape[1]\n",
    "for r in range(0, MAX_ROUND):\n",
    "    for i in range(0, N_COL):\n",
    "        for j in range(i+1, N_COL):\n",
    "            by2 = normalized[:, [i, j]]\n",
    "            rot_radian, rot_mat = varimax(by2)\n",
    "            print(f'round {i, j} : {rot_radian}')\n",
    "            by2_rot = by2@rot_mat\n",
    "            normalized[:, [i,j]] = by2_rot\n",
    "            # print(normalized)\n",
    "unnormalized = normalized*np.sqrt(communality)\n",
    "print(unnormalized)"
   ]
  },
  {
   "cell_type": "markdown",
   "metadata": {},
   "source": [
    "Cross chcek varimax result with SKLearn"
   ]
  },
  {
   "cell_type": "code",
   "execution_count": 1,
   "metadata": {},
   "outputs": [],
   "source": [
    "from sklearn.decomposition import FactorAnalysis"
   ]
  },
  {
   "cell_type": "code",
   "execution_count": 3,
   "metadata": {},
   "outputs": [],
   "source": [
    "# calculation reference : https://www.real-statistics.com/linear-algebra-matrix-topics/varimax/\n",
    "df = pd.read_excel('/Users/thanakrit.boo/Documents/Local Project/Python/FactorAnalysis/sample_cal_varimax.xlsx',header=None)\n",
    "top_factor_loading = df.to_numpy()"
   ]
  },
  {
   "cell_type": "code",
   "execution_count": 4,
   "metadata": {},
   "outputs": [
    {
     "data": {
      "text/plain": [
       "array([[-0.18444  ,  0.76673  , -0.27758  ,  0.115158 ],\n",
       "       [ 0.698485 , -0.30362  , -0.19539  , -0.2648   ],\n",
       "       [ 0.754094 ,  0.348652 , -0.20205  , -0.30588  ],\n",
       "       [ 0.365978 ,  0.162525 , -0.19731  ,  0.849845 ],\n",
       "       [ 0.578163 ,  0.04413  ,  0.452722 ,  0.157895 ],\n",
       "       [ 0.299667 ,  0.0303881,  0.770856 ,  0.063739 ],\n",
       "       [ 0.817187 ,  0.239353 , -0.19451  , -0.16643  ],\n",
       "       [ 0.687893 ,  0.035304 ,  0.116032 ,  0.117627 ],\n",
       "       [ 0.301458 , -0.74108  , -0.3442   ,  0.233979 ]])"
      ]
     },
     "execution_count": 4,
     "metadata": {},
     "output_type": "execute_result"
    }
   ],
   "source": [
    "top_factor_loading"
   ]
  },
  {
   "cell_type": "code",
   "execution_count": 7,
   "metadata": {},
   "outputs": [
    {
     "data": {
      "text/plain": [
       "array([[ 0.93305689, -0.5940925 , -0.02513395,  0.        ],\n",
       "       [-0.65086693,  0.24207545, -0.01288413,  0.        ],\n",
       "       [-0.58042457, -0.07259277, -0.01368679,  0.        ],\n",
       "       [ 0.86461643, -0.06447925, -0.01387406,  0.        ],\n",
       "       [-0.06856429,  0.0626586 ,  0.03536443,  0.        ],\n",
       "       [ 0.12523094, -0.01939037,  0.05733859,  0.        ],\n",
       "       [-0.54712027,  0.01067851, -0.01239898,  0.        ],\n",
       "       [-0.2107237 ,  0.09197293,  0.01072318,  0.        ],\n",
       "       [ 0.13479549,  0.3431694 , -0.02544829,  0.        ]])"
      ]
     },
     "execution_count": 7,
     "metadata": {},
     "output_type": "execute_result"
    }
   ],
   "source": [
    "fa = FactorAnalysis(rotation='varimax')\n",
    "fa.fit_transform(top_factor_loading)"
   ]
  },
  {
   "cell_type": "code",
   "execution_count": null,
   "metadata": {},
   "outputs": [],
   "source": []
  }
 ],
 "metadata": {
  "interpreter": {
   "hash": "1baf51df35facf7b16058c7b1b0f9d1327a345825234ead76b738b8b5f289ac1"
  },
  "kernelspec": {
   "display_name": "Python 3.8.12 ('dev')",
   "language": "python",
   "name": "python3"
  },
  "language_info": {
   "codemirror_mode": {
    "name": "ipython",
    "version": 3
   },
   "file_extension": ".py",
   "mimetype": "text/x-python",
   "name": "python",
   "nbconvert_exporter": "python",
   "pygments_lexer": "ipython3",
   "version": "3.8.12"
  },
  "orig_nbformat": 4
 },
 "nbformat": 4,
 "nbformat_minor": 2
}
