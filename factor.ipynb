{
 "cells": [
  {
   "cell_type": "code",
   "execution_count": 6,
   "metadata": {},
   "outputs": [],
   "source": [
    "import pandas as pd\n",
    "import numpy as np\n",
    "\n",
    "from numpy.linalg import eigh\n",
    "np.set_printoptions(linewidth=100)\n",
    "# sample data from \n",
    "df = pd.read_csv('/Users/thanakrit.boo/Documents/Local Project/Python/FactorAnalysis/data.csv', index_col=0)"
   ]
  },
  {
   "cell_type": "markdown",
   "metadata": {},
   "source": [
    "# Data"
   ]
  },
  {
   "cell_type": "markdown",
   "metadata": {},
   "source": [
    "Five subjects who were trying on ski boots late on a Friday night in January were asked about the importance of each of four variables to their selection of a ski resort. The variables were cost of ski ticket (COST), speed of ski lift (LIFT), depth of snow (DEPTH), and moisture of snow (POWDER). Larger numbers indicate greater importance. The researcher wanted to investigate the pattern of relationships among the variables in an effort to understand better the dimensions underlying choice of ski area."
   ]
  },
  {
   "cell_type": "markdown",
   "metadata": {},
   "source": [
    "# Extraction"
   ]
  },
  {
   "cell_type": "code",
   "execution_count": null,
   "metadata": {},
   "outputs": [
    {
     "data": {
      "text/html": [
       "<div>\n",
       "<style scoped>\n",
       "    .dataframe tbody tr th:only-of-type {\n",
       "        vertical-align: middle;\n",
       "    }\n",
       "\n",
       "    .dataframe tbody tr th {\n",
       "        vertical-align: top;\n",
       "    }\n",
       "\n",
       "    .dataframe thead th {\n",
       "        text-align: right;\n",
       "    }\n",
       "</style>\n",
       "<table border=\"1\" class=\"dataframe\">\n",
       "  <thead>\n",
       "    <tr style=\"text-align: right;\">\n",
       "      <th></th>\n",
       "      <th>COST</th>\n",
       "      <th>LIFT</th>\n",
       "      <th>DEPTH</th>\n",
       "      <th>POWDER</th>\n",
       "    </tr>\n",
       "  </thead>\n",
       "  <tbody>\n",
       "    <tr>\n",
       "      <th>COST</th>\n",
       "      <td>1.000000</td>\n",
       "      <td>-0.952990</td>\n",
       "      <td>-0.055276</td>\n",
       "      <td>-0.129999</td>\n",
       "    </tr>\n",
       "    <tr>\n",
       "      <th>LIFT</th>\n",
       "      <td>-0.952990</td>\n",
       "      <td>1.000000</td>\n",
       "      <td>-0.091107</td>\n",
       "      <td>-0.036248</td>\n",
       "    </tr>\n",
       "    <tr>\n",
       "      <th>DEPTH</th>\n",
       "      <td>-0.055276</td>\n",
       "      <td>-0.091107</td>\n",
       "      <td>1.000000</td>\n",
       "      <td>0.990174</td>\n",
       "    </tr>\n",
       "    <tr>\n",
       "      <th>POWDER</th>\n",
       "      <td>-0.129999</td>\n",
       "      <td>-0.036248</td>\n",
       "      <td>0.990174</td>\n",
       "      <td>1.000000</td>\n",
       "    </tr>\n",
       "  </tbody>\n",
       "</table>\n",
       "</div>"
      ],
      "text/plain": [
       "            COST      LIFT     DEPTH    POWDER\n",
       "COST    1.000000 -0.952990 -0.055276 -0.129999\n",
       "LIFT   -0.952990  1.000000 -0.091107 -0.036248\n",
       "DEPTH  -0.055276 -0.091107  1.000000  0.990174\n",
       "POWDER -0.129999 -0.036248  0.990174  1.000000"
      ]
     },
     "execution_count": 3,
     "metadata": {},
     "output_type": "execute_result"
    }
   ],
   "source": [
    "corr = df.corr()\n",
    "# Corr from cov, std\n",
    "# df.cov()/(df.std().to_numpy().reshape(-1,1)@df.std().to_numpy().reshape(1,-1))\n",
    "corr"
   ]
  },
  {
   "cell_type": "code",
   "execution_count": 2,
   "metadata": {},
   "outputs": [
    {
     "ename": "NameError",
     "evalue": "name 'corr' is not defined",
     "output_type": "error",
     "traceback": [
      "\u001b[0;31m---------------------------------------------------------------------------\u001b[0m",
      "\u001b[0;31mNameError\u001b[0m                                 Traceback (most recent call last)",
      "\u001b[0;32m/var/folders/yv/qfmyb70n0q35v76t8qwmmn_r0000gp/T/ipykernel_1120/771837536.py\u001b[0m in \u001b[0;36m<module>\u001b[0;34m\u001b[0m\n\u001b[0;32m----> 1\u001b[0;31m \u001b[0meigval\u001b[0m\u001b[0;34m,\u001b[0m \u001b[0meigvec\u001b[0m \u001b[0;34m=\u001b[0m \u001b[0meigh\u001b[0m\u001b[0;34m(\u001b[0m\u001b[0mcorr\u001b[0m\u001b[0;34m)\u001b[0m\u001b[0;34m\u001b[0m\u001b[0;34m\u001b[0m\u001b[0m\n\u001b[0m\u001b[1;32m      2\u001b[0m \u001b[0mdisplay\u001b[0m\u001b[0;34m(\u001b[0m\u001b[0meigval\u001b[0m\u001b[0;34m)\u001b[0m\u001b[0;34m\u001b[0m\u001b[0;34m\u001b[0m\u001b[0m\n\u001b[1;32m      3\u001b[0m \u001b[0mdisplay\u001b[0m\u001b[0;34m(\u001b[0m\u001b[0meigvec\u001b[0m\u001b[0;34m)\u001b[0m\u001b[0;34m\u001b[0m\u001b[0;34m\u001b[0m\u001b[0m\n",
      "\u001b[0;31mNameError\u001b[0m: name 'corr' is not defined"
     ]
    }
   ],
   "source": [
    "eigval, eigvec = eigh(corr)\n",
    "display(eigval)\n",
    "display(eigvec)"
   ]
  },
  {
   "cell_type": "code",
   "execution_count": 10,
   "metadata": {},
   "outputs": [
    {
     "data": {
      "text/plain": [
       "array([[ 1.        , -0.95299048, -0.05527555, -0.12999882],\n",
       "       [-0.95299048,  1.        , -0.09110654, -0.03624823],\n",
       "       [-0.05527555, -0.09110654,  1.        ,  0.99017435],\n",
       "       [-0.12999882, -0.03624823,  0.99017435,  1.        ]])"
      ]
     },
     "metadata": {},
     "output_type": "display_data"
    }
   ],
   "source": [
    "# Re-arrage of correlation matrix from eigen value, eigen vector\n",
    "re_composed_corr = eigvec@np.diag(eigval)@eigvec.T\n",
    "display(re_composed_corr)"
   ]
  },
  {
   "cell_type": "code",
   "execution_count": 14,
   "metadata": {},
   "outputs": [
    {
     "data": {
      "text/plain": [
       "array([[ 1.06574148e-03,  2.50503238e-02, -1.19272984e+00,  7.10572168e-01],\n",
       "       [ 8.68512733e-04,  2.55570896e-02,  1.28870740e+00, -5.06344250e-01],\n",
       "       [-2.85364944e-03,  1.04158724e-02, -6.25612168e-01, -1.26502720e+00],\n",
       "       [ 3.00878236e-03, -6.37154046e-03, -5.42875736e-01, -1.30533335e+00]])"
      ]
     },
     "metadata": {},
     "output_type": "display_data"
    }
   ],
   "source": [
    "# Split eigval into sqrt(np.diag(eigval))*sqrt(np.diag(eigval)), call\n",
    "# eigvec@(np.diag(eigval)) = (unrotated) factor loading matrix\n",
    "factor_loading = eigvec@np.diag(np.sqrt(eigval))\n",
    "display(factor_loading)"
   ]
  },
  {
   "cell_type": "markdown",
   "metadata": {},
   "source": [
    "To represent the correlation matrix, with less number of factors.  \n",
    "Use high value eigen value (and corresponding eigen vector), since higher eigen value, shown relation between factor and original correlation matrix.  \n",
    "If choose only top 2 factor"
   ]
  },
  {
   "cell_type": "code",
   "execution_count": 72,
   "metadata": {},
   "outputs": [
    {
     "data": {
      "text/plain": [
       "array([2.0163051 , 1.94151381])"
      ]
     },
     "execution_count": 72,
     "metadata": {},
     "output_type": "execute_result"
    }
   ],
   "source": [
    "top_eigval = eigval[:-3:-1] # re-order by top value first\n",
    "top_eigval"
   ]
  },
  {
   "cell_type": "code",
   "execution_count": 74,
   "metadata": {},
   "outputs": [
    {
     "data": {
      "text/plain": [
       "array([[ 0.35241302, -0.61432982],\n",
       "       [-0.25112482,  0.66376422],\n",
       "       [-0.6273987 , -0.32222906],\n",
       "       [-0.6473888 , -0.27961467]])"
      ]
     },
     "execution_count": 74,
     "metadata": {},
     "output_type": "execute_result"
    }
   ],
   "source": [
    "top_eigvec = eigvec[:,[3,2]] # re-order according to corresponding eigen val\n",
    "top_eigvec"
   ]
  },
  {
   "cell_type": "code",
   "execution_count": 75,
   "metadata": {},
   "outputs": [
    {
     "data": {
      "text/plain": [
       "array([[ 0.9831444 , -0.9701337 , -0.06147984, -0.12651171],\n",
       "       [-0.9701337 ,  0.98255347, -0.09757925, -0.03253989],\n",
       "       [-0.06147984, -0.09757925,  0.99526684,  0.99389478],\n",
       "       [-0.12651171, -0.03253989,  0.99389478,  0.99685421]])"
      ]
     },
     "execution_count": 75,
     "metadata": {},
     "output_type": "execute_result"
    }
   ],
   "source": [
    "top_corr = top_eigvec@np.diag(top_eigval)@top_eigvec.T\n",
    "top_corr"
   ]
  },
  {
   "cell_type": "code",
   "execution_count": 76,
   "metadata": {},
   "outputs": [
    {
     "data": {
      "text/html": [
       "<div>\n",
       "<style scoped>\n",
       "    .dataframe tbody tr th:only-of-type {\n",
       "        vertical-align: middle;\n",
       "    }\n",
       "\n",
       "    .dataframe tbody tr th {\n",
       "        vertical-align: top;\n",
       "    }\n",
       "\n",
       "    .dataframe thead th {\n",
       "        text-align: right;\n",
       "    }\n",
       "</style>\n",
       "<table border=\"1\" class=\"dataframe\">\n",
       "  <thead>\n",
       "    <tr style=\"text-align: right;\">\n",
       "      <th></th>\n",
       "      <th>COST</th>\n",
       "      <th>LIFT</th>\n",
       "      <th>DEPTH</th>\n",
       "      <th>POWDER</th>\n",
       "    </tr>\n",
       "  </thead>\n",
       "  <tbody>\n",
       "    <tr>\n",
       "      <th>COST</th>\n",
       "      <td>1.000000</td>\n",
       "      <td>-0.952990</td>\n",
       "      <td>-0.055276</td>\n",
       "      <td>-0.129999</td>\n",
       "    </tr>\n",
       "    <tr>\n",
       "      <th>LIFT</th>\n",
       "      <td>-0.952990</td>\n",
       "      <td>1.000000</td>\n",
       "      <td>-0.091107</td>\n",
       "      <td>-0.036248</td>\n",
       "    </tr>\n",
       "    <tr>\n",
       "      <th>DEPTH</th>\n",
       "      <td>-0.055276</td>\n",
       "      <td>-0.091107</td>\n",
       "      <td>1.000000</td>\n",
       "      <td>0.990174</td>\n",
       "    </tr>\n",
       "    <tr>\n",
       "      <th>POWDER</th>\n",
       "      <td>-0.129999</td>\n",
       "      <td>-0.036248</td>\n",
       "      <td>0.990174</td>\n",
       "      <td>1.000000</td>\n",
       "    </tr>\n",
       "  </tbody>\n",
       "</table>\n",
       "</div>"
      ],
      "text/plain": [
       "            COST      LIFT     DEPTH    POWDER\n",
       "COST    1.000000 -0.952990 -0.055276 -0.129999\n",
       "LIFT   -0.952990  1.000000 -0.091107 -0.036248\n",
       "DEPTH  -0.055276 -0.091107  1.000000  0.990174\n",
       "POWDER -0.129999 -0.036248  0.990174  1.000000"
      ]
     },
     "execution_count": 76,
     "metadata": {},
     "output_type": "execute_result"
    }
   ],
   "source": [
    "corr"
   ]
  },
  {
   "cell_type": "markdown",
   "metadata": {},
   "source": [
    "L"
   ]
  },
  {
   "cell_type": "code",
   "execution_count": 77,
   "metadata": {},
   "outputs": [
    {
     "data": {
      "text/plain": [
       "array([[ 0.71057217, -1.19272984],\n",
       "       [-0.50634425,  1.2887074 ],\n",
       "       [-1.2650272 , -0.62561217],\n",
       "       [-1.30533335, -0.54287574]])"
      ]
     },
     "execution_count": 77,
     "metadata": {},
     "output_type": "execute_result"
    }
   ],
   "source": [
    "top_factor_loading = top_eigvec@np.diag(top_eigval)\n",
    "top_factor_loading"
   ]
  },
  {
   "cell_type": "markdown",
   "metadata": {},
   "source": [
    "__Interpretation__  \n",
    "First factor high relation with `DEPTH` and `POWDER`, indicate the factor based on environment  \n",
    "Second factor high relation with `COST` and `LIFT` , indicate the factor based on infrastructure  "
   ]
  },
  {
   "cell_type": "markdown",
   "metadata": {},
   "source": [
    "# Orthogonal Rotation"
   ]
  },
  {
   "cell_type": "markdown",
   "metadata": {},
   "source": []
  }
 ],
 "metadata": {
  "interpreter": {
   "hash": "1baf51df35facf7b16058c7b1b0f9d1327a345825234ead76b738b8b5f289ac1"
  },
  "kernelspec": {
   "display_name": "Python 3.8.12 ('dev')",
   "language": "python",
   "name": "python3"
  },
  "language_info": {
   "codemirror_mode": {
    "name": "ipython",
    "version": 3
   },
   "file_extension": ".py",
   "mimetype": "text/x-python",
   "name": "python",
   "nbconvert_exporter": "python",
   "pygments_lexer": "ipython3",
   "version": "3.8.12"
  },
  "orig_nbformat": 4
 },
 "nbformat": 4,
 "nbformat_minor": 2
}
