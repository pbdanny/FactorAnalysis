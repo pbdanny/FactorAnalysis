{
 "cells": [
  {
   "cell_type": "code",
   "execution_count": 3,
   "metadata": {},
   "outputs": [],
   "source": [
    "import pandas as pd\n",
    "import numpy as np\n",
    "\n",
    "from numpy.linalg import eigh\n",
    "np.set_printoptions(linewidth=100)\n",
    "# sample data from \n",
    "df = pd.read_csv('/Users/thanakrit.boo/Documents/Local Project/Python/FactorAnalysis/data.csv', index_col=0)"
   ]
  },
  {
   "cell_type": "markdown",
   "metadata": {},
   "source": [
    "# Data"
   ]
  },
  {
   "cell_type": "markdown",
   "metadata": {},
   "source": [
    "Five subjects who were trying on ski boots late on a Friday night in January were asked about the importance of each of four variables to their selection of a ski resort. The variables were cost of ski ticket (COST), speed of ski lift (LIFT), depth of snow (DEPTH), and moisture of snow (POWDER). Larger numbers indicate greater importance. The researcher wanted to investigate the pattern of relationships among the variables in an effort to understand better the dimensions underlying choice of ski area."
   ]
  },
  {
   "cell_type": "markdown",
   "metadata": {},
   "source": [
    "# Extraction"
   ]
  },
  {
   "cell_type": "code",
   "execution_count": 4,
   "metadata": {},
   "outputs": [
    {
     "data": {
      "text/html": [
       "<div>\n",
       "<style scoped>\n",
       "    .dataframe tbody tr th:only-of-type {\n",
       "        vertical-align: middle;\n",
       "    }\n",
       "\n",
       "    .dataframe tbody tr th {\n",
       "        vertical-align: top;\n",
       "    }\n",
       "\n",
       "    .dataframe thead th {\n",
       "        text-align: right;\n",
       "    }\n",
       "</style>\n",
       "<table border=\"1\" class=\"dataframe\">\n",
       "  <thead>\n",
       "    <tr style=\"text-align: right;\">\n",
       "      <th></th>\n",
       "      <th>COST</th>\n",
       "      <th>LIFT</th>\n",
       "      <th>DEPTH</th>\n",
       "      <th>POWDER</th>\n",
       "    </tr>\n",
       "  </thead>\n",
       "  <tbody>\n",
       "    <tr>\n",
       "      <th>COST</th>\n",
       "      <td>1.000000</td>\n",
       "      <td>-0.952990</td>\n",
       "      <td>-0.055276</td>\n",
       "      <td>-0.129999</td>\n",
       "    </tr>\n",
       "    <tr>\n",
       "      <th>LIFT</th>\n",
       "      <td>-0.952990</td>\n",
       "      <td>1.000000</td>\n",
       "      <td>-0.091107</td>\n",
       "      <td>-0.036248</td>\n",
       "    </tr>\n",
       "    <tr>\n",
       "      <th>DEPTH</th>\n",
       "      <td>-0.055276</td>\n",
       "      <td>-0.091107</td>\n",
       "      <td>1.000000</td>\n",
       "      <td>0.990174</td>\n",
       "    </tr>\n",
       "    <tr>\n",
       "      <th>POWDER</th>\n",
       "      <td>-0.129999</td>\n",
       "      <td>-0.036248</td>\n",
       "      <td>0.990174</td>\n",
       "      <td>1.000000</td>\n",
       "    </tr>\n",
       "  </tbody>\n",
       "</table>\n",
       "</div>"
      ],
      "text/plain": [
       "            COST      LIFT     DEPTH    POWDER\n",
       "COST    1.000000 -0.952990 -0.055276 -0.129999\n",
       "LIFT   -0.952990  1.000000 -0.091107 -0.036248\n",
       "DEPTH  -0.055276 -0.091107  1.000000  0.990174\n",
       "POWDER -0.129999 -0.036248  0.990174  1.000000"
      ]
     },
     "execution_count": 4,
     "metadata": {},
     "output_type": "execute_result"
    }
   ],
   "source": [
    "corr = df.corr()\n",
    "# Corr from cov, std\n",
    "# df.cov()/(df.std().to_numpy().reshape(-1,1)@df.std().to_numpy().reshape(1,-1))\n",
    "corr"
   ]
  },
  {
   "cell_type": "code",
   "execution_count": 5,
   "metadata": {},
   "outputs": [
    {
     "data": {
      "text/plain": [
       "array([0.00436878, 0.03781231, 1.94151381, 2.0163051 ])"
      ]
     },
     "metadata": {},
     "output_type": "display_data"
    },
    {
     "data": {
      "text/plain": [
       "array([[ 0.24394508,  0.6624913 , -0.61432982,  0.35241302],\n",
       "       [ 0.1988    ,  0.67589344,  0.66376422, -0.25112482],\n",
       "       [-0.65319195,  0.2754625 , -0.32222906, -0.6273987 ],\n",
       "       [ 0.68870141, -0.16850441, -0.27961467, -0.6473888 ]])"
      ]
     },
     "metadata": {},
     "output_type": "display_data"
    }
   ],
   "source": [
    "eigval, eigvec = eigh(corr)\n",
    "display(eigval)\n",
    "display(eigvec)"
   ]
  },
  {
   "cell_type": "code",
   "execution_count": 6,
   "metadata": {},
   "outputs": [
    {
     "data": {
      "text/plain": [
       "array([[ 1.        , -0.95299048, -0.05527555, -0.12999882],\n",
       "       [-0.95299048,  1.        , -0.09110654, -0.03624823],\n",
       "       [-0.05527555, -0.09110654,  1.        ,  0.99017435],\n",
       "       [-0.12999882, -0.03624823,  0.99017435,  1.        ]])"
      ]
     },
     "metadata": {},
     "output_type": "display_data"
    }
   ],
   "source": [
    "# Re-arrage of correlation matrix from eigen value, eigen vector\n",
    "re_composed_corr = eigvec@np.diag(eigval)@eigvec.T\n",
    "display(re_composed_corr)"
   ]
  },
  {
   "cell_type": "code",
   "execution_count": 7,
   "metadata": {},
   "outputs": [
    {
     "data": {
      "text/plain": [
       "array([[ 0.01612397,  0.128824  , -0.85599621,  0.50041471],\n",
       "       [ 0.01314003,  0.13143009,  0.92487722, -0.35658885],\n",
       "       [-0.04317384,  0.05356475, -0.44898822, -0.89088519],\n",
       "       [ 0.0455209 , -0.03276633, -0.38961008, -0.91927047]])"
      ]
     },
     "metadata": {},
     "output_type": "display_data"
    }
   ],
   "source": [
    "# Split eigval into sqrt(np.diag(eigval))*sqrt(np.diag(eigval)), call\n",
    "# eigvec@(np.diag(eigval)) = (unrotated) factor loading matrix\n",
    "factor_loading = eigvec@np.diag(np.sqrt(eigval))\n",
    "display(factor_loading)"
   ]
  },
  {
   "cell_type": "markdown",
   "metadata": {},
   "source": [
    "To represent the correlation matrix, with less number of factors.  \n",
    "Use high value eigen value (and corresponding eigen vector), since higher eigen value, shown relation between factor and original correlation matrix.  \n",
    "If choose only top 2 factor"
   ]
  },
  {
   "cell_type": "code",
   "execution_count": 8,
   "metadata": {},
   "outputs": [
    {
     "data": {
      "text/plain": [
       "array([2.0163051 , 1.94151381])"
      ]
     },
     "execution_count": 8,
     "metadata": {},
     "output_type": "execute_result"
    }
   ],
   "source": [
    "top_eigval = eigval[:-3:-1] # re-order by top value first\n",
    "top_eigval"
   ]
  },
  {
   "cell_type": "code",
   "execution_count": 9,
   "metadata": {},
   "outputs": [
    {
     "data": {
      "text/plain": [
       "array([[ 0.35241302, -0.61432982],\n",
       "       [-0.25112482,  0.66376422],\n",
       "       [-0.6273987 , -0.32222906],\n",
       "       [-0.6473888 , -0.27961467]])"
      ]
     },
     "execution_count": 9,
     "metadata": {},
     "output_type": "execute_result"
    }
   ],
   "source": [
    "top_eigvec = eigvec[:,[3,2]] # re-order according to corresponding eigen val\n",
    "top_eigvec"
   ]
  },
  {
   "cell_type": "markdown",
   "metadata": {},
   "source": [
    "Reproduce correlation matrix from first 2 factos"
   ]
  },
  {
   "cell_type": "code",
   "execution_count": 10,
   "metadata": {},
   "outputs": [
    {
     "data": {
      "text/plain": [
       "array([[ 0.9831444 , -0.9701337 , -0.06147984, -0.12651171],\n",
       "       [-0.9701337 ,  0.98255347, -0.09757925, -0.03253989],\n",
       "       [-0.06147984, -0.09757925,  0.99526684,  0.99389478],\n",
       "       [-0.12651171, -0.03253989,  0.99389478,  0.99685421]])"
      ]
     },
     "execution_count": 10,
     "metadata": {},
     "output_type": "execute_result"
    }
   ],
   "source": [
    "top_corr = top_eigvec@np.diag(top_eigval)@top_eigvec.T\n",
    "top_corr"
   ]
  },
  {
   "cell_type": "code",
   "execution_count": 11,
   "metadata": {},
   "outputs": [
    {
     "data": {
      "text/html": [
       "<div>\n",
       "<style scoped>\n",
       "    .dataframe tbody tr th:only-of-type {\n",
       "        vertical-align: middle;\n",
       "    }\n",
       "\n",
       "    .dataframe tbody tr th {\n",
       "        vertical-align: top;\n",
       "    }\n",
       "\n",
       "    .dataframe thead th {\n",
       "        text-align: right;\n",
       "    }\n",
       "</style>\n",
       "<table border=\"1\" class=\"dataframe\">\n",
       "  <thead>\n",
       "    <tr style=\"text-align: right;\">\n",
       "      <th></th>\n",
       "      <th>COST</th>\n",
       "      <th>LIFT</th>\n",
       "      <th>DEPTH</th>\n",
       "      <th>POWDER</th>\n",
       "    </tr>\n",
       "  </thead>\n",
       "  <tbody>\n",
       "    <tr>\n",
       "      <th>COST</th>\n",
       "      <td>1.000000</td>\n",
       "      <td>-0.952990</td>\n",
       "      <td>-0.055276</td>\n",
       "      <td>-0.129999</td>\n",
       "    </tr>\n",
       "    <tr>\n",
       "      <th>LIFT</th>\n",
       "      <td>-0.952990</td>\n",
       "      <td>1.000000</td>\n",
       "      <td>-0.091107</td>\n",
       "      <td>-0.036248</td>\n",
       "    </tr>\n",
       "    <tr>\n",
       "      <th>DEPTH</th>\n",
       "      <td>-0.055276</td>\n",
       "      <td>-0.091107</td>\n",
       "      <td>1.000000</td>\n",
       "      <td>0.990174</td>\n",
       "    </tr>\n",
       "    <tr>\n",
       "      <th>POWDER</th>\n",
       "      <td>-0.129999</td>\n",
       "      <td>-0.036248</td>\n",
       "      <td>0.990174</td>\n",
       "      <td>1.000000</td>\n",
       "    </tr>\n",
       "  </tbody>\n",
       "</table>\n",
       "</div>"
      ],
      "text/plain": [
       "            COST      LIFT     DEPTH    POWDER\n",
       "COST    1.000000 -0.952990 -0.055276 -0.129999\n",
       "LIFT   -0.952990  1.000000 -0.091107 -0.036248\n",
       "DEPTH  -0.055276 -0.091107  1.000000  0.990174\n",
       "POWDER -0.129999 -0.036248  0.990174  1.000000"
      ]
     },
     "execution_count": 11,
     "metadata": {},
     "output_type": "execute_result"
    }
   ],
   "source": [
    "corr"
   ]
  },
  {
   "cell_type": "markdown",
   "metadata": {},
   "source": [
    "Top Factor loading = top_eigvec @ sqrt(eigval)"
   ]
  },
  {
   "cell_type": "code",
   "execution_count": 12,
   "metadata": {},
   "outputs": [
    {
     "data": {
      "text/plain": [
       "array([[ 0.50041471, -0.85599621],\n",
       "       [-0.35658885,  0.92487722],\n",
       "       [-0.89088519, -0.44898822],\n",
       "       [-0.91927047, -0.38961008]])"
      ]
     },
     "execution_count": 12,
     "metadata": {},
     "output_type": "execute_result"
    }
   ],
   "source": [
    "top_factor_loading = top_eigvec@np.diag(np.sqrt(top_eigval))\n",
    "top_factor_loading"
   ]
  },
  {
   "cell_type": "markdown",
   "metadata": {},
   "source": [
    "__Interpretation__  \n",
    "First factor high relation with `DEPTH` and `POWDER`, indicate the factor based on environment  \n",
    "Second factor high relation with `COST` and `LIFT` , indicate the factor based on infrastructure  "
   ]
  },
  {
   "cell_type": "markdown",
   "metadata": {},
   "source": [
    "# Orthogonal Rotation  \n",
    "Rotation to maximized high correlation factor <-> variable  \n",
    "_varimax_ high factor loading -> higher / low factor loading -> lower\n",
    "\n",
    "`varimax`  \n",
    "orthogonal rotate with matrix\n",
    "| cos x | - sin x |\n",
    "| --- | --- |\n",
    "| sin x | cos x |"
   ]
  },
  {
   "cell_type": "code",
   "execution_count": 13,
   "metadata": {},
   "outputs": [
    {
     "data": {
      "text/plain": [
       "array([[ 0.1944663 , -0.97227941],\n",
       "       [-0.03605081,  0.99058256],\n",
       "       [-0.98852476, -0.13448285],\n",
       "       [-0.99603194, -0.06909838]])"
      ]
     },
     "execution_count": 13,
     "metadata": {},
     "output_type": "execute_result"
    }
   ],
   "source": [
    "rotate_radian = 19/180*np.pi\n",
    "rotate_mat = np.array([[np.cos(rotate_radian), -np.sin(rotate_radian)],\n",
    "                       [np.sin(rotate_radian), np.cos(rotate_radian)]])\n",
    "top_factor_loading_rotated = top_factor_loading@rotate_mat\n",
    "top_factor_loading_rotated"
   ]
  },
  {
   "cell_type": "markdown",
   "metadata": {},
   "source": [
    "## Varimax rotation\n",
    "1) Normalized each row with each row sum-square"
   ]
  },
  {
   "cell_type": "code",
   "execution_count": 42,
   "metadata": {},
   "outputs": [],
   "source": [
    "# sample Factor loading sample for calculation reference : https://www.real-statistics.com/linear-algebra-matrix-topics/varimax/\n",
    "df = pd.read_excel('/Users/thanakrit.boo/Documents/Local Project/Python/FactorAnalysis/sample_cal_varimax.xlsx',header=None)\n",
    "top_factor_loading = df.to_numpy()"
   ]
  },
  {
   "cell_type": "code",
   "execution_count": 37,
   "metadata": {},
   "outputs": [],
   "source": [
    "def varimax(X):\n",
    "    \"\"\"X is k by 2 matrix\n",
    "    \"\"\"\n",
    "    u = X[:,0]**2 - X[:,1]**2\n",
    "    # print(u)\n",
    "    v = 2*(X[:,0]*X[:,1])\n",
    "    # print(v)\n",
    "    u_sqrt_net_v_sqrt = u**2 - v**2\n",
    "    # print(u_sqrt_net_v_sqrt)\n",
    "    uv = u*v\n",
    "    # print(uv)\n",
    "\n",
    "    A = u.sum()\n",
    "    B = v.sum()\n",
    "    C = u_sqrt_net_v_sqrt.sum()\n",
    "    D = uv.sum()\n",
    "    k = X.shape[0]\n",
    "\n",
    "    X = 2*D*k - 2*A*B \n",
    "    Y = C*k - (A**2 - B**2)\n",
    "    # print(X)\n",
    "    # print(Y)\n",
    "\n",
    "    rotate_radian = np.arctan(X/Y)*0.25\n",
    "    rotate_mat = np.array([[np.cos(rotate_radian), - np.sin(rotate_radian)],\n",
    "                       [np.sin(rotate_radian), np.cos(rotate_radian)]])\n",
    "    return rotate_radian, rotate_mat\n",
    "    "
   ]
  },
  {
   "cell_type": "code",
   "execution_count": 58,
   "metadata": {},
   "outputs": [
    {
     "name": "stdout",
     "output_type": "stream",
     "text": [
      "[[-0.18444    0.76673   -0.27758    0.115158 ]\n",
      " [ 0.698485  -0.30362   -0.19539   -0.2648   ]\n",
      " [ 0.754094   0.348652  -0.20205   -0.30588  ]\n",
      " [ 0.365978   0.162525  -0.19731    0.849845 ]\n",
      " [ 0.578163   0.04413    0.452722   0.157895 ]\n",
      " [ 0.299667   0.0303881  0.770856   0.063739 ]\n",
      " [ 0.817187   0.239353  -0.19451   -0.16643  ]\n",
      " [ 0.687893   0.035304   0.116032   0.117627 ]\n",
      " [ 0.301458  -0.74108   -0.3442     0.233979 ]]\n",
      "[[-0.2185509   0.90853139 -0.3289165   0.13645567]\n",
      " [ 0.84187657 -0.36594997 -0.2355015  -0.31916063]\n",
      " [ 0.83043012  0.38394567 -0.2225033  -0.3368439 ]\n",
      " [ 0.38124321  0.16930404 -0.20553994  0.88529266]\n",
      " [ 0.76842355  0.0586522   0.60170272  0.20985472]\n",
      " [ 0.36101697  0.03660937  0.92867114  0.0767881 ]\n",
      " [ 0.91904807  0.26918797 -0.21875536 -0.18717524]\n",
      " [ 0.97113669  0.04984061  0.16380881  0.16606056]\n",
      " [ 0.33427386 -0.82175186 -0.38166863  0.25944929]]\n",
      "round (0, 1) : 0.268260641029102\n",
      "round (0, 2) : -0.3285740477653107\n",
      "round (0, 3) : -0.3670188335558344\n",
      "round (1, 2) : 0.06530918439265208\n",
      "round (1, 3) : -0.05502640680876803\n",
      "round (2, 3) : 0.15465567325488278\n",
      "round (0, 1) : 0.009553916575310004\n",
      "round (0, 2) : -0.010603408589627859\n",
      "round (0, 3) : -0.0031761244009385417\n",
      "round (1, 2) : 0.021554377410687862\n",
      "round (1, 3) : -0.008761836835633767\n",
      "round (2, 3) : 0.0017076552481667796\n",
      "round (0, 1) : 0.003505125671491271\n",
      "round (0, 2) : -4.1948532937033756e-05\n",
      "round (0, 3) : -0.00018296291095965458\n",
      "round (1, 2) : 0.0025871018307372707\n",
      "round (1, 3) : -0.0006787312303232733\n",
      "round (2, 3) : 4.7938768920678235e-05\n",
      "round (0, 1) : 0.000432268641752355\n",
      "round (0, 2) : 3.074016463260148e-05\n",
      "round (0, 3) : -6.345963155168606e-06\n",
      "round (1, 2) : 0.00022844172212616325\n",
      "round (1, 3) : -5.1784295926434905e-05\n",
      "round (2, 3) : -1.7028339334689947e-07\n",
      "round (0, 1) : 3.880286617601913e-05\n",
      "round (0, 2) : 3.7760349936476504e-06\n",
      "round (0, 3) : -1.2796659407548637e-07\n",
      "round (1, 2) : 1.8473624066981947e-05\n",
      "round (1, 3) : -3.9266532506798e-06\n",
      "round (2, 3) : -1.7391013774541353e-07\n",
      "[[ 0.07705517  0.75050879 -0.28970651  0.24305188]\n",
      " [ 0.67114408 -0.48203545  0.04832614 -0.05687466]\n",
      " [ 0.89565036  0.12923869  0.0734121   0.01792236]\n",
      " [ 0.10020612 -0.00496275  0.08738924  0.95069409]\n",
      " [ 0.30110223 -0.07610613  0.66001104  0.18449575]\n",
      " [-0.00118486  0.02060544  0.82775561 -0.05830994]\n",
      " [ 0.86884752  0.00127865  0.1220501   0.14430406]\n",
      " [ 0.51017588 -0.14430649  0.39018788  0.26151925]\n",
      " [ 0.09295813 -0.83539799 -0.18047774  0.27238407]]\n"
     ]
    }
   ],
   "source": [
    "# top_factor_loading = top_eigvec@np.diag(np.sqrt(top_eigval))\n",
    "print(top_factor_loading)\n",
    "communality = (top_factor_loading**2).sum(axis=1).reshape(-1,1)\n",
    "normalized = top_factor_loading/np.sqrt(communality) #.reshape(-1,1))\n",
    "print(normalized)\n",
    "\n",
    "MAX_ROUND = 5\n",
    "N_COL = top_factor_loading.shape[1]\n",
    "for r in range(0, MAX_ROUND):\n",
    "    for i in range(0, N_COL):\n",
    "        for j in range(i+1, N_COL):\n",
    "            by2 = normalized[:, [i, j]]\n",
    "            rot_radian, rot_mat = varimax(by2)\n",
    "            print(f'round {i, j} : {rot_radian}')\n",
    "            by2_rot = by2@rot_mat\n",
    "            normalized[:, [i,j]] = by2_rot\n",
    "            # print(normalized)\n",
    "unnormalized = normalized*np.sqrt(communality)\n",
    "print(unnormalized)"
   ]
  },
  {
   "cell_type": "code",
   "execution_count": null,
   "metadata": {},
   "outputs": [],
   "source": []
  }
 ],
 "metadata": {
  "interpreter": {
   "hash": "1baf51df35facf7b16058c7b1b0f9d1327a345825234ead76b738b8b5f289ac1"
  },
  "kernelspec": {
   "display_name": "Python 3.8.12 ('dev')",
   "language": "python",
   "name": "python3"
  },
  "language_info": {
   "codemirror_mode": {
    "name": "ipython",
    "version": 3
   },
   "file_extension": ".py",
   "mimetype": "text/x-python",
   "name": "python",
   "nbconvert_exporter": "python",
   "pygments_lexer": "ipython3",
   "version": "3.8.12"
  },
  "orig_nbformat": 4
 },
 "nbformat": 4,
 "nbformat_minor": 2
}
